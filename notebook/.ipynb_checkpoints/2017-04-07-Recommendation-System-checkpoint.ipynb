{
 "cells": [
  {
   "cell_type": "markdown",
   "metadata": {},
   "source": [
    "<a id=\"top\"></a>"
   ]
  },
  {
   "cell_type": "markdown",
   "metadata": {},
   "source": [
    "Data : \n",
    "\n",
    "    1) features.txt - A dictionary mapping from feature ID to descriptive text. \n",
    "       For example, feature 072 corresponds to \"Ethiopian\" cuisine.\n",
    "\n",
    "    2) city_hotel_features.txt - A file containing restaurant data.\n",
    "       Format : restaurant name [TAB] city [TAB] restaurant features (3 digits ids separated by spaces)\n",
    "\n",
    "Problems :\n",
    "    \n",
    "<a href=\"#output1\">1) Given feature_x1, feature_x2, feature_x3 .... feature_xn find best 10 hotels.</a>  \n",
    "<a href=\"#output2\">2) Find top 5 important features for given city.</a>  \n",
    "<a href=\"#output3\">3) Generate a model to find similar hotels for given hotel x.</a>  \n",
    "<a href=\"#output4\">4) Generate a model to find similar feature for given featute y.</a>  \n",
    "<a href=\"#output5\">5) How to scale if number of hotels OR number of features are more.</a>  \n",
    "<a href=\"#output6\">6) Segment/Cluster, visualize ... features or hotels based on given data to get the insights.</a>  \n"
   ]
  },
  {
   "cell_type": "markdown",
   "metadata": {},
   "source": [
    "## Importing Libraries"
   ]
  },
  {
   "cell_type": "code",
   "execution_count": 92,
   "metadata": {
    "collapsed": false
   },
   "outputs": [],
   "source": [
    "import pandas as pd\n",
    "import numpy as np\n",
    "from sklearn.preprocessing import LabelEncoder\n",
    "from sklearn.neighbors import KNeighborsClassifier\n",
    "import matplotlib.pyplot as plt\n",
    "from scipy.cluster.hierarchy import dendrogram, linkage\n"
   ]
  },
  {
   "cell_type": "markdown",
   "metadata": {},
   "source": [
    "## Loading Datasets"
   ]
  },
  {
   "cell_type": "code",
   "execution_count": 2,
   "metadata": {
    "collapsed": true
   },
   "outputs": [],
   "source": [
    "data_path = \"../Problem_statement_2/\""
   ]
  },
  {
   "cell_type": "code",
   "execution_count": 3,
   "metadata": {
    "collapsed": false
   },
   "outputs": [],
   "source": [
    "cityHotelDf = pd.read_table(data_path+\"city_hotel_features.txt\")"
   ]
  },
  {
   "cell_type": "code",
   "execution_count": 4,
   "metadata": {
    "collapsed": true
   },
   "outputs": [],
   "source": [
    "nbRecords = cityHotelDf.shape[0]"
   ]
  },
  {
   "cell_type": "code",
   "execution_count": 5,
   "metadata": {
    "collapsed": false
   },
   "outputs": [
    {
     "data": {
      "text/html": [
       "<div>\n",
       "<table border=\"1\" class=\"dataframe\">\n",
       "  <thead>\n",
       "    <tr style=\"text-align: right;\">\n",
       "      <th></th>\n",
       "      <th>Hotel_Name</th>\n",
       "      <th>City_Name</th>\n",
       "      <th>Features</th>\n",
       "    </tr>\n",
       "  </thead>\n",
       "  <tbody>\n",
       "    <tr>\n",
       "      <th>0</th>\n",
       "      <td>Tanner's</td>\n",
       "      <td>atlanta</td>\n",
       "      <td>100 253 250 178 174 063 059 036 008 074 204 05...</td>\n",
       "    </tr>\n",
       "    <tr>\n",
       "      <th>1</th>\n",
       "      <td>Frijoleros</td>\n",
       "      <td>atlanta</td>\n",
       "      <td>250 062 132 174 063 197 071 142 234 243 075 20...</td>\n",
       "    </tr>\n",
       "    <tr>\n",
       "      <th>2</th>\n",
       "      <td>Indian Delights</td>\n",
       "      <td>atlanta</td>\n",
       "      <td>253 250 150 174 083 059 036 117 243 076 205 05...</td>\n",
       "    </tr>\n",
       "  </tbody>\n",
       "</table>\n",
       "</div>"
      ],
      "text/plain": [
       "        Hotel_Name City_Name  \\\n",
       "0         Tanner's   atlanta   \n",
       "1       Frijoleros   atlanta   \n",
       "2  Indian Delights   atlanta   \n",
       "\n",
       "                                            Features  \n",
       "0  100 253 250 178 174 063 059 036 008 074 204 05...  \n",
       "1  250 062 132 174 063 197 071 142 234 243 075 20...  \n",
       "2  253 250 150 174 083 059 036 117 243 076 205 05...  "
      ]
     },
     "execution_count": 5,
     "metadata": {},
     "output_type": "execute_result"
    }
   ],
   "source": [
    "cityHotelDf.head(3)"
   ]
  },
  {
   "cell_type": "code",
   "execution_count": 6,
   "metadata": {
    "collapsed": true
   },
   "outputs": [],
   "source": [
    "featuresDf = pd.read_table(data_path+\"features.txt\")"
   ]
  },
  {
   "cell_type": "code",
   "execution_count": 7,
   "metadata": {
    "collapsed": false
   },
   "outputs": [
    {
     "data": {
      "text/html": [
       "<div>\n",
       "<table border=\"1\" class=\"dataframe\">\n",
       "  <thead>\n",
       "    <tr style=\"text-align: right;\">\n",
       "      <th></th>\n",
       "      <th>ID</th>\n",
       "      <th>Feature_Name</th>\n",
       "    </tr>\n",
       "  </thead>\n",
       "  <tbody>\n",
       "    <tr>\n",
       "      <th>0</th>\n",
       "      <td>0</td>\n",
       "      <td>A</td>\n",
       "    </tr>\n",
       "    <tr>\n",
       "      <th>1</th>\n",
       "      <td>1</td>\n",
       "      <td>Authentic</td>\n",
       "    </tr>\n",
       "    <tr>\n",
       "      <th>2</th>\n",
       "      <td>2</td>\n",
       "      <td>Afghanistan</td>\n",
       "    </tr>\n",
       "  </tbody>\n",
       "</table>\n",
       "</div>"
      ],
      "text/plain": [
       "   ID Feature_Name\n",
       "0   0            A\n",
       "1   1    Authentic\n",
       "2   2  Afghanistan"
      ]
     },
     "execution_count": 7,
     "metadata": {},
     "output_type": "execute_result"
    }
   ],
   "source": [
    "featuresDf.head(3)"
   ]
  },
  {
   "cell_type": "markdown",
   "metadata": {},
   "source": [
    "#### Merging the two tables\n",
    "* Creating seperate column for each feature"
   ]
  },
  {
   "cell_type": "code",
   "execution_count": 8,
   "metadata": {
    "collapsed": false
   },
   "outputs": [],
   "source": [
    "finalDf = cityHotelDf.copy()"
   ]
  },
  {
   "cell_type": "code",
   "execution_count": 9,
   "metadata": {
    "collapsed": false
   },
   "outputs": [],
   "source": [
    "for i in list(featuresDf.ID):\n",
    "    finalDf[str(i)] = np.zeros(nbRecords).astype(int)"
   ]
  },
  {
   "cell_type": "code",
   "execution_count": 10,
   "metadata": {
    "collapsed": false
   },
   "outputs": [],
   "source": [
    "def func(x):\n",
    "    x[[str(int(i)) for i in x[\"Features\"].split()]] = 1\n",
    "    return x\n",
    "finalDf = finalDf.apply(func,axis = 1)\n"
   ]
  },
  {
   "cell_type": "code",
   "execution_count": 11,
   "metadata": {
    "collapsed": false
   },
   "outputs": [],
   "source": [
    "finalDf = finalDf.drop(\"Features\",axis=1)"
   ]
  },
  {
   "cell_type": "code",
   "execution_count": 12,
   "metadata": {
    "collapsed": false
   },
   "outputs": [
    {
     "data": {
      "text/html": [
       "<div>\n",
       "<table border=\"1\" class=\"dataframe\">\n",
       "  <thead>\n",
       "    <tr style=\"text-align: right;\">\n",
       "      <th></th>\n",
       "      <th>Hotel_Name</th>\n",
       "      <th>City_Name</th>\n",
       "      <th>0</th>\n",
       "      <th>1</th>\n",
       "      <th>2</th>\n",
       "      <th>3</th>\n",
       "      <th>4</th>\n",
       "      <th>5</th>\n",
       "      <th>6</th>\n",
       "      <th>7</th>\n",
       "      <th>...</th>\n",
       "      <th>247</th>\n",
       "      <th>248</th>\n",
       "      <th>249</th>\n",
       "      <th>250</th>\n",
       "      <th>251</th>\n",
       "      <th>252</th>\n",
       "      <th>253</th>\n",
       "      <th>254</th>\n",
       "      <th>255</th>\n",
       "      <th>256</th>\n",
       "    </tr>\n",
       "  </thead>\n",
       "  <tbody>\n",
       "    <tr>\n",
       "      <th>0</th>\n",
       "      <td>Tanner's</td>\n",
       "      <td>atlanta</td>\n",
       "      <td>0</td>\n",
       "      <td>0</td>\n",
       "      <td>0</td>\n",
       "      <td>0</td>\n",
       "      <td>0</td>\n",
       "      <td>0</td>\n",
       "      <td>0</td>\n",
       "      <td>0</td>\n",
       "      <td>...</td>\n",
       "      <td>0</td>\n",
       "      <td>0</td>\n",
       "      <td>0</td>\n",
       "      <td>1</td>\n",
       "      <td>0</td>\n",
       "      <td>0</td>\n",
       "      <td>1</td>\n",
       "      <td>0</td>\n",
       "      <td>0</td>\n",
       "      <td>0</td>\n",
       "    </tr>\n",
       "  </tbody>\n",
       "</table>\n",
       "<p>1 rows × 259 columns</p>\n",
       "</div>"
      ],
      "text/plain": [
       "  Hotel_Name City_Name  0  1  2  3  4  5  6  7 ...   247  248  249  250  251  \\\n",
       "0   Tanner's   atlanta  0  0  0  0  0  0  0  0 ...     0    0    0    1    0   \n",
       "\n",
       "   252  253  254  255  256  \n",
       "0    0    1    0    0    0  \n",
       "\n",
       "[1 rows x 259 columns]"
      ]
     },
     "execution_count": 12,
     "metadata": {},
     "output_type": "execute_result"
    }
   ],
   "source": [
    "finalDf.head(1)"
   ]
  },
  {
   "cell_type": "markdown",
   "metadata": {
    "collapsed": true
   },
   "source": [
    "<a id=\"code1\"></a>"
   ]
  },
  {
   "cell_type": "markdown",
   "metadata": {},
   "source": [
    "\n",
    "# 1. Given List of features -> find best 10 hotels"
   ]
  },
  {
   "cell_type": "code",
   "execution_count": null,
   "metadata": {
    "collapsed": true
   },
   "outputs": [],
   "source": []
  },
  {
   "cell_type": "code",
   "execution_count": 13,
   "metadata": {
    "collapsed": true
   },
   "outputs": [],
   "source": [
    "def featureHotelMatch(sampleList,df, top=10):\n",
    "    global featuresDf\n",
    "    data = df.copy()\n",
    "    \n",
    "    # creating an array of the feature matrix\n",
    "    origArray = np.array(data.iloc[:,2:])\n",
    "    \n",
    "    # creating a label encoder\n",
    "    featureClasses = list(featuresDf.ID)\n",
    "    le = LabelEncoder()\n",
    "    le.fit(featureClasses)\n",
    "    \n",
    "    # creating a vector representation of the sample List of features\n",
    "    sampleIndex = le.transform(sampleList)\n",
    "    sampleVector = np.zeros(len(featureClasses))\n",
    "    sampleVector[sampleIndex] = 1\n",
    "    \n",
    "    # taking dot product to get the projection of the sampleVector in original data subspace\n",
    "    data[\"match_score\"] = np.dot(origArray,sampleVector)\n",
    "    \n",
    "    return data.sort_values(by=\"match_score\",ascending=False)[:top]\n",
    "    \n",
    "    "
   ]
  },
  {
   "cell_type": "markdown",
   "metadata": {},
   "source": [
    "<a href=\"#output1\">Go to Output</a>  \n",
    "<a href=\"#top\">Go to Top</a>"
   ]
  },
  {
   "cell_type": "markdown",
   "metadata": {},
   "source": [
    "### <a id=\"output1\">Output for Given feature_x1, feature_x2, feature_x3 .... feature_xn find best 10 hotels</a>  \n",
    "<a href=\"#code1\"> See code </a>  \n",
    "<a href=\"#top\">Go to Top</a>"
   ]
  },
  {
   "cell_type": "code",
   "execution_count": 14,
   "metadata": {
    "collapsed": true
   },
   "outputs": [],
   "source": [
    "# the sample List is the set of features for which we want recommendations\n",
    "\n",
    "sampleList = [174,253,36,52,163,204,8,178]\n"
   ]
  },
  {
   "cell_type": "code",
   "execution_count": 15,
   "metadata": {
    "collapsed": false
   },
   "outputs": [
    {
     "data": {
      "text/html": [
       "<div>\n",
       "<table border=\"1\" class=\"dataframe\">\n",
       "  <thead>\n",
       "    <tr style=\"text-align: right;\">\n",
       "      <th></th>\n",
       "      <th>Hotel_Name</th>\n",
       "      <th>City_Name</th>\n",
       "      <th>0</th>\n",
       "      <th>1</th>\n",
       "      <th>2</th>\n",
       "      <th>3</th>\n",
       "      <th>4</th>\n",
       "      <th>5</th>\n",
       "      <th>6</th>\n",
       "      <th>7</th>\n",
       "      <th>...</th>\n",
       "      <th>248</th>\n",
       "      <th>249</th>\n",
       "      <th>250</th>\n",
       "      <th>251</th>\n",
       "      <th>252</th>\n",
       "      <th>253</th>\n",
       "      <th>254</th>\n",
       "      <th>255</th>\n",
       "      <th>256</th>\n",
       "      <th>match_score</th>\n",
       "    </tr>\n",
       "  </thead>\n",
       "  <tbody>\n",
       "    <tr>\n",
       "      <th>0</th>\n",
       "      <td>Tanner's</td>\n",
       "      <td>atlanta</td>\n",
       "      <td>0</td>\n",
       "      <td>0</td>\n",
       "      <td>0</td>\n",
       "      <td>0</td>\n",
       "      <td>0</td>\n",
       "      <td>0</td>\n",
       "      <td>0</td>\n",
       "      <td>0</td>\n",
       "      <td>...</td>\n",
       "      <td>0</td>\n",
       "      <td>0</td>\n",
       "      <td>1</td>\n",
       "      <td>0</td>\n",
       "      <td>0</td>\n",
       "      <td>1</td>\n",
       "      <td>0</td>\n",
       "      <td>0</td>\n",
       "      <td>0</td>\n",
       "      <td>8.0</td>\n",
       "    </tr>\n",
       "    <tr>\n",
       "      <th>4130</th>\n",
       "      <td>T.G.I. Friday's</td>\n",
       "      <td>washington_dc</td>\n",
       "      <td>0</td>\n",
       "      <td>0</td>\n",
       "      <td>0</td>\n",
       "      <td>0</td>\n",
       "      <td>1</td>\n",
       "      <td>1</td>\n",
       "      <td>0</td>\n",
       "      <td>0</td>\n",
       "      <td>...</td>\n",
       "      <td>0</td>\n",
       "      <td>0</td>\n",
       "      <td>1</td>\n",
       "      <td>0</td>\n",
       "      <td>1</td>\n",
       "      <td>1</td>\n",
       "      <td>0</td>\n",
       "      <td>0</td>\n",
       "      <td>0</td>\n",
       "      <td>7.0</td>\n",
       "    </tr>\n",
       "    <tr>\n",
       "      <th>190</th>\n",
       "      <td>St. Charles Deli</td>\n",
       "      <td>atlanta</td>\n",
       "      <td>0</td>\n",
       "      <td>0</td>\n",
       "      <td>0</td>\n",
       "      <td>0</td>\n",
       "      <td>0</td>\n",
       "      <td>0</td>\n",
       "      <td>0</td>\n",
       "      <td>0</td>\n",
       "      <td>...</td>\n",
       "      <td>0</td>\n",
       "      <td>0</td>\n",
       "      <td>1</td>\n",
       "      <td>0</td>\n",
       "      <td>0</td>\n",
       "      <td>1</td>\n",
       "      <td>0</td>\n",
       "      <td>0</td>\n",
       "      <td>0</td>\n",
       "      <td>7.0</td>\n",
       "    </tr>\n",
       "    <tr>\n",
       "      <th>189</th>\n",
       "      <td>Blue Ribbon Grill</td>\n",
       "      <td>atlanta</td>\n",
       "      <td>0</td>\n",
       "      <td>0</td>\n",
       "      <td>0</td>\n",
       "      <td>0</td>\n",
       "      <td>0</td>\n",
       "      <td>0</td>\n",
       "      <td>0</td>\n",
       "      <td>0</td>\n",
       "      <td>...</td>\n",
       "      <td>0</td>\n",
       "      <td>0</td>\n",
       "      <td>0</td>\n",
       "      <td>0</td>\n",
       "      <td>0</td>\n",
       "      <td>1</td>\n",
       "      <td>0</td>\n",
       "      <td>0</td>\n",
       "      <td>0</td>\n",
       "      <td>7.0</td>\n",
       "    </tr>\n",
       "    <tr>\n",
       "      <th>3490</th>\n",
       "      <td>Mel's Drive-In</td>\n",
       "      <td>san_francisco</td>\n",
       "      <td>0</td>\n",
       "      <td>0</td>\n",
       "      <td>0</td>\n",
       "      <td>0</td>\n",
       "      <td>0</td>\n",
       "      <td>0</td>\n",
       "      <td>0</td>\n",
       "      <td>0</td>\n",
       "      <td>...</td>\n",
       "      <td>0</td>\n",
       "      <td>0</td>\n",
       "      <td>1</td>\n",
       "      <td>0</td>\n",
       "      <td>0</td>\n",
       "      <td>1</td>\n",
       "      <td>0</td>\n",
       "      <td>0</td>\n",
       "      <td>0</td>\n",
       "      <td>7.0</td>\n",
       "    </tr>\n",
       "  </tbody>\n",
       "</table>\n",
       "<p>5 rows × 260 columns</p>\n",
       "</div>"
      ],
      "text/plain": [
       "             Hotel_Name      City_Name  0  1  2  3  4  5  6  7     ...       \\\n",
       "0              Tanner's        atlanta  0  0  0  0  0  0  0  0     ...        \n",
       "4130    T.G.I. Friday's  washington_dc  0  0  0  0  1  1  0  0     ...        \n",
       "190    St. Charles Deli        atlanta  0  0  0  0  0  0  0  0     ...        \n",
       "189   Blue Ribbon Grill        atlanta  0  0  0  0  0  0  0  0     ...        \n",
       "3490     Mel's Drive-In  san_francisco  0  0  0  0  0  0  0  0     ...        \n",
       "\n",
       "      248  249  250  251  252  253  254  255  256  match_score  \n",
       "0       0    0    1    0    0    1    0    0    0          8.0  \n",
       "4130    0    0    1    0    1    1    0    0    0          7.0  \n",
       "190     0    0    1    0    0    1    0    0    0          7.0  \n",
       "189     0    0    0    0    0    1    0    0    0          7.0  \n",
       "3490    0    0    1    0    0    1    0    0    0          7.0  \n",
       "\n",
       "[5 rows x 260 columns]"
      ]
     },
     "execution_count": 15,
     "metadata": {},
     "output_type": "execute_result"
    }
   ],
   "source": [
    "featureHotelMatch(sampleList,finalDf,5)"
   ]
  },
  {
   "cell_type": "code",
   "execution_count": null,
   "metadata": {
    "collapsed": true
   },
   "outputs": [],
   "source": []
  },
  {
   "cell_type": "code",
   "execution_count": null,
   "metadata": {
    "collapsed": true
   },
   "outputs": [],
   "source": []
  },
  {
   "cell_type": "code",
   "execution_count": null,
   "metadata": {
    "collapsed": true
   },
   "outputs": [],
   "source": []
  },
  {
   "cell_type": "markdown",
   "metadata": {},
   "source": [
    "<a id=\"code2\"></a>"
   ]
  },
  {
   "cell_type": "markdown",
   "metadata": {},
   "source": [
    "# 2. Find top 5 important features for given city"
   ]
  },
  {
   "cell_type": "code",
   "execution_count": 18,
   "metadata": {
    "collapsed": true
   },
   "outputs": [],
   "source": [
    "def topFeatures(cityName,data,top=5):\n",
    "    \"\"\"\n",
    "    Returns a series with the index = feature , and value = Count of that feature\"\"\"\n",
    "    \n",
    "    global featuresDf\n",
    "    \n",
    "    groupedData = data.groupby([\"City_Name\"]).sum()\n",
    "    cityData = groupedData.loc[cityName]\n",
    "    cityData = cityData.sort_values(ascending =False)[:top]\n",
    "    \n",
    "    cityData.index = cityData.index.astype(int)\n",
    "    \n",
    "    cityData = pd.DataFrame(cityData)\n",
    "    cityData = cityData.rename(columns={cityName:\"count\"})\n",
    "    \n",
    "    cityData = cityData.merge(featuresDf,how=\"inner\",left_index=True,right_index=True)\n",
    "    cityData = cityData.sort_values(by=\"count\",ascending=False)\n",
    "    \n",
    "    return cityData"
   ]
  },
  {
   "cell_type": "markdown",
   "metadata": {},
   "source": [
    "<a href=\"#output2\">Go to Output</a>  \n",
    "<a href=\"#top\">Go to Top</a>"
   ]
  },
  {
   "cell_type": "markdown",
   "metadata": {},
   "source": [
    "### <a id=\"output2\">Output for Find top 5 important features for given city</a>  \n",
    "<a href=\"#code2\">See Code</a>  \n",
    "<a href=\"#top\">Go to Top</a>"
   ]
  },
  {
   "cell_type": "code",
   "execution_count": 19,
   "metadata": {
    "collapsed": false
   },
   "outputs": [
    {
     "data": {
      "text/html": [
       "<div>\n",
       "<table border=\"1\" class=\"dataframe\">\n",
       "  <thead>\n",
       "    <tr style=\"text-align: right;\">\n",
       "      <th></th>\n",
       "      <th>count</th>\n",
       "      <th>ID</th>\n",
       "      <th>Feature_Name</th>\n",
       "    </tr>\n",
       "  </thead>\n",
       "  <tbody>\n",
       "    <tr>\n",
       "      <th>250</th>\n",
       "      <td>315</td>\n",
       "      <td>250</td>\n",
       "      <td>Weekend Dining</td>\n",
       "    </tr>\n",
       "    <tr>\n",
       "      <th>253</th>\n",
       "      <td>238</td>\n",
       "      <td>253</td>\n",
       "      <td>Wheelchair Access</td>\n",
       "    </tr>\n",
       "    <tr>\n",
       "      <th>205</th>\n",
       "      <td>209</td>\n",
       "      <td>205</td>\n",
       "      <td>Excellent Service</td>\n",
       "    </tr>\n",
       "    <tr>\n",
       "      <th>75</th>\n",
       "      <td>202</td>\n",
       "      <td>75</td>\n",
       "      <td>Excellent Food</td>\n",
       "    </tr>\n",
       "    <tr>\n",
       "      <th>191</th>\n",
       "      <td>180</td>\n",
       "      <td>191</td>\n",
       "      <td>Private Parties</td>\n",
       "    </tr>\n",
       "  </tbody>\n",
       "</table>\n",
       "</div>"
      ],
      "text/plain": [
       "     count   ID       Feature_Name\n",
       "250    315  250     Weekend Dining\n",
       "253    238  253  Wheelchair Access\n",
       "205    209  205  Excellent Service\n",
       "75     202   75     Excellent Food\n",
       "191    180  191    Private Parties"
      ]
     },
     "execution_count": 19,
     "metadata": {},
     "output_type": "execute_result"
    }
   ],
   "source": [
    "cityName = \"boston\"\n",
    "topFeatures(cityName,finalDf)"
   ]
  },
  {
   "cell_type": "code",
   "execution_count": null,
   "metadata": {
    "collapsed": true
   },
   "outputs": [],
   "source": []
  },
  {
   "cell_type": "code",
   "execution_count": null,
   "metadata": {
    "collapsed": true
   },
   "outputs": [],
   "source": []
  },
  {
   "cell_type": "markdown",
   "metadata": {},
   "source": [
    "<a id=\"code3\"></a>"
   ]
  },
  {
   "cell_type": "markdown",
   "metadata": {},
   "source": [
    "# 3. Generate a model to find similar hotels for given hotel x"
   ]
  },
  {
   "cell_type": "code",
   "execution_count": 57,
   "metadata": {
    "collapsed": true
   },
   "outputs": [],
   "source": [
    "def similarHotels(hotelName,df,top=5):\n",
    "    data = df.copy()\n",
    "        \n",
    "    # creating dummy codes for the city names as well -> this makes the city as a feature of the hotel type\n",
    "    \n",
    "    dataCity = pd.get_dummies(data.City_Name)\n",
    "    data = data.join(dataCity)\n",
    "    data = data.drop(\"City_Name\",axis=1)\n",
    "    \n",
    "    # creating a KNN classifier\n",
    "    neig = KNeighborsClassifier(n_neighbors=top)\n",
    "    \n",
    "    target_col = [\"Hotel_Name\"]\n",
    "    feature_col = list(set(data.columns)-set(target_col))\n",
    "    X_train = np.array(data[feature_col])\n",
    "    y_train = np.array(data[target_col])\n",
    "    \n",
    "    # training the classifier\n",
    "    neig.fit(X_train,y_train)\n",
    "    \n",
    "    # getting the kNN of the target hotel Name\n",
    "    X_target = np.array(data[data[\"Hotel_Name\"]==hotelName][feature_col])\n",
    "    y_target = neig.kneighbors(X_target)\n",
    "    \n",
    "    hotelIndexDf = pd.DataFrame(y_target[1].transpose(),columns=[\"Hotel_Index\"])\n",
    "    distanceDf = pd.DataFrame(y_target[0].transpose(),columns=[\"Distance\"])\n",
    "    opDf = hotelIndexDf.join(distanceDf)\n",
    "    \n",
    "    data = data.merge(opDf,how=\"inner\",left_index=True,right_on=\"Hotel_Index\")\n",
    "    data = data[[\"Hotel_Name\",\"Distance\"]].sort_values(by=\"Distance\")\n",
    "    \n",
    "    return data\n",
    "    \n",
    "    \n",
    "    \n",
    "    "
   ]
  },
  {
   "cell_type": "markdown",
   "metadata": {},
   "source": [
    "<a href=\"#output3\">Go to Output</a>  \n",
    "<a href=\"#top\">Go to Top</a>"
   ]
  },
  {
   "cell_type": "markdown",
   "metadata": {},
   "source": [
    "### <a id=\"output3\">Output for Generate a model to find similar hotels for given hotel x</a>  \n",
    "<a href=\"#code3\">See Code</a>  \n",
    "<a href=\"#top\">Go to Top</a>"
   ]
  },
  {
   "cell_type": "code",
   "execution_count": 58,
   "metadata": {
    "collapsed": false
   },
   "outputs": [
    {
     "name": "stderr",
     "output_type": "stream",
     "text": [
      "/home/muhabek/anaconda3/lib/python3.5/site-packages/ipykernel/__main__.py:19: DataConversionWarning: A column-vector y was passed when a 1d array was expected. Please change the shape of y to (n_samples, ), for example using ravel().\n"
     ]
    },
    {
     "data": {
      "text/html": [
       "<div>\n",
       "<table border=\"1\" class=\"dataframe\">\n",
       "  <thead>\n",
       "    <tr style=\"text-align: right;\">\n",
       "      <th></th>\n",
       "      <th>Hotel_Name</th>\n",
       "      <th>Distance</th>\n",
       "    </tr>\n",
       "  </thead>\n",
       "  <tbody>\n",
       "    <tr>\n",
       "      <th>0</th>\n",
       "      <td>Frijoleros</td>\n",
       "      <td>0.000000</td>\n",
       "    </tr>\n",
       "    <tr>\n",
       "      <th>1</th>\n",
       "      <td>Tortilla's</td>\n",
       "      <td>2.645751</td>\n",
       "    </tr>\n",
       "    <tr>\n",
       "      <th>2</th>\n",
       "      <td>Fat Matt's Rib Shack</td>\n",
       "      <td>3.000000</td>\n",
       "    </tr>\n",
       "    <tr>\n",
       "      <th>4</th>\n",
       "      <td>Fellini's Pizza</td>\n",
       "      <td>3.316625</td>\n",
       "    </tr>\n",
       "    <tr>\n",
       "      <th>3</th>\n",
       "      <td>La Fonda Latina</td>\n",
       "      <td>3.316625</td>\n",
       "    </tr>\n",
       "  </tbody>\n",
       "</table>\n",
       "</div>"
      ],
      "text/plain": [
       "             Hotel_Name  Distance\n",
       "0            Frijoleros  0.000000\n",
       "1            Tortilla's  2.645751\n",
       "2  Fat Matt's Rib Shack  3.000000\n",
       "4       Fellini's Pizza  3.316625\n",
       "3       La Fonda Latina  3.316625"
      ]
     },
     "execution_count": 58,
     "metadata": {},
     "output_type": "execute_result"
    }
   ],
   "source": [
    "hotelName = \"Frijoleros\"\n",
    "nb_matches = 5   # no. of similar hotels\n",
    "similarHotels(hotelName,finalDf,top = nb_matches)"
   ]
  },
  {
   "cell_type": "code",
   "execution_count": null,
   "metadata": {
    "collapsed": true
   },
   "outputs": [],
   "source": []
  },
  {
   "cell_type": "code",
   "execution_count": null,
   "metadata": {
    "collapsed": true
   },
   "outputs": [],
   "source": []
  },
  {
   "cell_type": "markdown",
   "metadata": {},
   "source": [
    "<a id=\"code4\"></a>"
   ]
  },
  {
   "cell_type": "markdown",
   "metadata": {
    "collapsed": true
   },
   "source": [
    "# 4. Generate a model to find similar feature for given feature y"
   ]
  },
  {
   "cell_type": "markdown",
   "metadata": {},
   "source": [
    "The Similarity for features is based on : \n",
    "* How many times the feature1 and the feature2 coexist divided by total occurence of the two features.\n",
    "* also known as Jaccard Coefficient"
   ]
  },
  {
   "cell_type": "code",
   "execution_count": 53,
   "metadata": {
    "collapsed": true
   },
   "outputs": [],
   "source": [
    "def similarFeatures(featureName,df,top):\n",
    "    \"\"\" Returns two lists - one with the index, and one with the similarity scores of those indices\n",
    "    \"\"\"\n",
    "    data = df.copy()\n",
    "    simDict = {}\n",
    "    non_feature_col = [\"Hotel_Name\",\"City_Name\",featureName]\n",
    "    feature_col = list(set(data.columns)-set(non_feature_col))\n",
    "    for colName in feature_col:\n",
    "        simDict[colName] = (data[colName] & data[featureName]).sum()/(data[colName] | data[featureName]).sum()\n",
    "    \n",
    "    sortedList = sorted(simDict,key=lambda x : simDict[x],reverse=True)\n",
    "    sortedSim = [simDict[i] for i in sortedList[:top]]\n",
    "    \n",
    "    return [sortedList[:top], sortedSim]\n",
    "    \n",
    "    \n",
    "    \n",
    "    \n",
    "    \n",
    "    \n",
    "    \n",
    "    \n",
    "     \n",
    "    "
   ]
  },
  {
   "cell_type": "markdown",
   "metadata": {},
   "source": [
    "<a href=\"#output4\">Go to Output</a>  \n",
    "<a href=\"#top\">Go to Top</a>"
   ]
  },
  {
   "cell_type": "markdown",
   "metadata": {
    "collapsed": true
   },
   "source": [
    "### <a id=\"output4\">Output for Generate a model to find similar feature for given feature y</a>  \n",
    "<a href=\"#code4\">See Code</a>  \n",
    "<a href=\"#top\">Go to Top</a>"
   ]
  },
  {
   "cell_type": "code",
   "execution_count": 63,
   "metadata": {
    "collapsed": false
   },
   "outputs": [
    {
     "data": {
      "text/plain": [
       "[['145', '87', '84', '83', '56'],\n",
       " [1.0,\n",
       "  0.009345794392523364,\n",
       "  0.009345794392523364,\n",
       "  0.005291005291005291,\n",
       "  0.0024390243902439024]]"
      ]
     },
     "execution_count": 63,
     "metadata": {},
     "output_type": "execute_result"
    }
   ],
   "source": [
    "featureName = \"0\"\n",
    "nb_matches = 5   # no. of similar features\n",
    "similarFeatures(featureName,finalDf,top = nb_matches)"
   ]
  },
  {
   "cell_type": "code",
   "execution_count": null,
   "metadata": {
    "collapsed": true
   },
   "outputs": [],
   "source": []
  },
  {
   "cell_type": "markdown",
   "metadata": {},
   "source": [
    "<a id=\"output6\"></a>"
   ]
  },
  {
   "cell_type": "markdown",
   "metadata": {},
   "source": [
    "# Clustering the data - creating a Heirarchical Cluster\n",
    "<a href=\"#top\">Go to top</a>"
   ]
  },
  {
   "cell_type": "code",
   "execution_count": 67,
   "metadata": {
    "collapsed": false
   },
   "outputs": [],
   "source": [
    "non_feature_col = [\"Hotel_Name\",\"City_Name\"]\n",
    "feature_col = list(set(finalDf.columns)-set(non_feature_col))"
   ]
  },
  {
   "cell_type": "code",
   "execution_count": 78,
   "metadata": {
    "collapsed": false
   },
   "outputs": [],
   "source": [
    "featureCount = finalDf[feature_col].sum().sort_values(ascending=False)"
   ]
  },
  {
   "cell_type": "markdown",
   "metadata": {},
   "source": [
    "### Heirarchical  Clustering"
   ]
  },
  {
   "cell_type": "code",
   "execution_count": 93,
   "metadata": {
    "collapsed": true
   },
   "outputs": [],
   "source": [
    "Z = linkage(finalDf[feature_col],\"ward\")"
   ]
  },
  {
   "cell_type": "code",
   "execution_count": 119,
   "metadata": {
    "collapsed": false
   },
   "outputs": [
    {
     "data": {
      "image/png": "[encoded data removed]",
      "text/plain": [
       "<matplotlib.figure.Figure at 0x7f891a96b4e0>"
      ]
     },
     "metadata": {},
     "output_type": "display_data"
    }
   ],
   "source": [
    "plt.figure(figsize=(25, 10))\n",
    "plt.title('Hierarchical Clustering Dendrogram')\n",
    "plt.xlabel('features')\n",
    "plt.ylabel('distance')\n",
    "dendrogram(\n",
    "    Z,\n",
    "    truncate_mode='lastp',  \n",
    "    p=15,  # show only the last p merged clusters\n",
    "    show_leaf_counts=True,  \n",
    "    leaf_rotation=90.,\n",
    "    leaf_font_size=12.,\n",
    "    show_contracted=True,\n",
    ")\n",
    "plt.show()"
   ]
  },
  {
   "cell_type": "code",
   "execution_count": null,
   "metadata": {
    "collapsed": true
   },
   "outputs": [],
   "source": []
  }
 ],
 "metadata": {
  "kernelspec": {
   "display_name": "Python [conda root]",
   "language": "python",
   "name": "conda-root-py"
  },
  "language_info": {
   "codemirror_mode": {
    "name": "ipython",
    "version": 3
   },
   "file_extension": ".py",
   "mimetype": "text/x-python",
   "name": "python",
   "nbconvert_exporter": "python",
   "pygments_lexer": "ipython3",
   "version": "3.5.2"
  }
 },
 "nbformat": 4,
 "nbformat_minor": 2
}
